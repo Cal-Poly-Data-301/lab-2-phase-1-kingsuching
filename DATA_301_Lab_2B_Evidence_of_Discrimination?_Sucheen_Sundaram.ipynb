{
  "nbformat": 4,
  "nbformat_minor": 0,
  "metadata": {
    "kernelspec": {
      "display_name": "Python 3",
      "language": "python",
      "name": "python3"
    },
    "language_info": {
      "codemirror_mode": {
        "name": "ipython",
        "version": 3
      },
      "file_extension": ".py",
      "mimetype": "text/x-python",
      "name": "python",
      "nbconvert_exporter": "python",
      "pygments_lexer": "ipython3",
      "version": "3.6.4"
    },
    "colab": {
      "name": "DATA 301 Lab 2B. Evidence of Discrimination? - Sucheen Sundaram",
      "provenance": [],
      "collapsed_sections": [],
      "include_colab_link": true
    }
  },
  "cells": [
    {
      "cell_type": "markdown",
      "metadata": {
        "id": "view-in-github",
        "colab_type": "text"
      },
      "source": [
        "<a href=\"https://colab.research.google.com/github/kingsuching/lab-2-phase-1-kingsuching/blob/main/DATA_301_Lab_2B_Evidence_of_Discrimination%3F_Sucheen_Sundaram.ipynb\" target=\"_parent\"><img src=\"https://colab.research.google.com/assets/colab-badge.svg\" alt=\"Open In Colab\"/></a>"
      ]
    },
    {
      "cell_type": "markdown",
      "metadata": {
        "id": "3GRr9ej57rEW"
      },
      "source": [
        "# Evidence of Discrimination?\n",
        "\n",
        "The Department of Developmental Services (DDS) in California is responsible for allocating funds to support over 250,000 developmentally-disabled residents. The data set `https://dlsun.github.io/pods/data/ca_dds_expenditures.csv` contains data about 1,000 of these residents. The data comes from a discrimination lawsuit which alleged that California's Department of Developmental Services (DDS) privileged white (non-Hispanic) residents over Hispanic residents in allocating funds. We will focus on comparing the allocation of funds (i.e., expenditures) for these two ethnicities only, although there are other ethnicities in this data set.\n",
        "\n",
        "There are 6 variables in this data set:\n",
        "\n",
        "- Id:  5-digit, unique identification code for each consumer (similar to a social security number and used for identification purposes)  \n",
        "- Age Cohort:  Binned age variable represented as six age cohorts (0-5, 6-12, 13-17, 18-21, 22-50, and 51+)\n",
        "- Age:  Unbinned age variable\n",
        "- Gender:  Male or Female\n",
        "- Expenditures:  Dollar amount of annual expenditures spent on each consumer\n",
        "- Ethnicity:  Eight ethnic groups (American Indian, Asian, Black, Hispanic, Multi-race, Native Hawaiian, Other, and White non-Hispanic)"
      ]
    },
    {
      "cell_type": "markdown",
      "metadata": {
        "id": "pBrvxdVd7rEY"
      },
      "source": [
        "# Question 1\n",
        "\n",
        "Read in the data set. Make a graphic that compares the _average_ expenditures by the DDS on Hispanic residents and white (non-Hispanic) residents. Comment on what you see."
      ]
    },
    {
      "cell_type": "code",
      "metadata": {
        "id": "HPu1DTOY7rEa",
        "colab": {
          "base_uri": "https://localhost:8080/",
          "height": 381
        },
        "outputId": "0dd35060-1593-453a-be42-0b07d750f31c"
      },
      "source": [
        "import pandas as pd\n",
        "import numpy as np\n",
        "import seaborn as sns\n",
        "dds = pd.read_csv(\"https://dlsun.github.io/pods/data/ca_dds_expenditures.csv\")\n",
        "dds.head()\n",
        "\n",
        "dds[(dds[\"Ethnicity\"] == \"White not Hispanic\") | (dds[\"Ethnicity\"] == \"Hispanic\")].groupby(\"Ethnicity\")[\"Expenditures\"].mean().plot.bar()"
      ],
      "execution_count": 36,
      "outputs": [
        {
          "output_type": "execute_result",
          "data": {
            "text/plain": [
              "<matplotlib.axes._subplots.AxesSubplot at 0x7f658abc2b10>"
            ]
          },
          "metadata": {},
          "execution_count": 36
        },
        {
          "output_type": "display_data",
          "data": {
            "image/png": "[encoded data removed]",
            "text/plain": [
              "<Figure size 432x288 with 1 Axes>"
            ]
          },
          "metadata": {
            "needs_background": "light"
          }
        }
      ]
    },
    {
      "cell_type": "markdown",
      "metadata": {
        "id": "FvfRcog37rEf"
      },
      "source": [
        "**YOUR EXPLANATION HERE**\n",
        "\n",
        "White residents spent much more per year on average, approximately $24K/year. This was close to double the mean annual spending of Hispanic residents."
      ]
    },
    {
      "cell_type": "markdown",
      "metadata": {
        "id": "CmxE7M3o7rEg"
      },
      "source": [
        "# Question 2\n",
        "\n",
        "Now, calculate the average expenditures by ethnicity and age cohort. Make a graphic that compares the average expenditure on Hispanic residents and white (non-Hispanic) residents, _within each age cohort_. \n",
        "\n",
        "Comment on what you see. How do these results appear to contradict the results you obtained in Question 1?"
      ]
    },
    {
      "cell_type": "code",
      "metadata": {
        "id": "u_J1LRI37rEh",
        "colab": {
          "base_uri": "https://localhost:8080/",
          "height": 381
        },
        "outputId": "93aeedb8-699b-4a7e-8d31-2982c59994f9"
      },
      "source": [
        "# YOUR CODE HERE\n",
        "dds.groupby([\"Ethnicity\", \"Age Cohort\"])[\"Expenditures\"].mean().unstack(1).sort_index().plot.bar()"
      ],
      "execution_count": 30,
      "outputs": [
        {
          "output_type": "execute_result",
          "data": {
            "text/plain": [
              "<matplotlib.axes._subplots.AxesSubplot at 0x7f658ad27b50>"
            ]
          },
          "metadata": {},
          "execution_count": 30
        },
        {
          "output_type": "display_data",
          "data": {
            "image/png": "[encoded data removed]",
            "text/plain": [
              "<Figure size 432x288 with 1 Axes>"
            ]
          },
          "metadata": {
            "needs_background": "light"
          }
        }
      ]
    },
    {
      "cell_type": "markdown",
      "metadata": {
        "id": "CFriAmRB7rEl"
      },
      "source": [
        "**YOUR EXPLANATION HERE**"
      ]
    },
    {
      "cell_type": "markdown",
      "source": [
        "Based on this aggregated barplot, it appears that White and Hispanic residents spent a similar amount on average per year. This is an example of Simpson's Paradox since we lost the original finding of White residents spending almost twice more on average per year than Hispanics."
      ],
      "metadata": {
        "id": "KBm8iOZWgggh"
      }
    },
    {
      "cell_type": "markdown",
      "metadata": {
        "id": "vNJHIPO77rEm"
      },
      "source": [
        "# Question 3\n",
        "\n",
        "Can you explain the discrepancy between the two analyses you conducted above (i.e., Questions 1 and 2)? Try to tell a complete story that interweaves tables, graphics, and explanation.\n",
        "\n",
        "_Hint:_ You might want to consider looking at:\n",
        "\n",
        "- the distributions of ages of Hispanics and whites\n",
        "- the average expenditure as a function of age"
      ]
    },
    {
      "cell_type": "code",
      "metadata": {
        "id": "mo4aLinP7rEn",
        "colab": {
          "base_uri": "https://localhost:8080/"
        },
        "outputId": "dc395e2b-6c2d-4c09-f5f6-e62da0522eb4"
      },
      "source": [
        "# YOUR CODE HERE (although you may want to add more code cells)\n",
        "meanWhite = dds.groupby(\"Ethnicity\")[\"Expenditures\"].mean()[\"White not Hispanic\"]\n",
        "meanHispanic = dds.groupby(\"Ethnicity\")[\"Expenditures\"].mean()[\"Hispanic\"]\n",
        "pd.crosstab(dds[\"Ethnicity\"], dds[\"Age Cohort\"], normalize=True).divide(dds[\"Age Cohort\"].value_counts(normalize=True)), \"===========================================================================================================\", dds.groupby(\"Age Cohort\")[\"Expenditures\"].mean().sort_values(ascending=False)"
      ],
      "execution_count": 55,
      "outputs": [
        {
          "output_type": "execute_result",
          "data": {
            "text/plain": [
              "(                      0 to 5  13 to 17  18 to 21  22 to 50       51+   6 to 12\n",
              " Ethnicity                                                                     \n",
              " American Indian     0.000000  0.004717  0.000000  0.004425  0.018868  0.000000\n",
              " Asian               0.097561  0.094340  0.206030  0.128319  0.122642  0.102857\n",
              " Black               0.036585  0.056604  0.045226  0.075221  0.066038  0.062857\n",
              " Hispanic            0.536585  0.485849  0.391960  0.190265  0.160377  0.520000\n",
              " Multi Race          0.085366  0.033019  0.010050  0.004425  0.000000  0.051429\n",
              " Native Hawaiian     0.000000  0.000000  0.000000  0.008850  0.009434  0.000000\n",
              " Other               0.000000  0.009434  0.000000  0.000000  0.000000  0.000000\n",
              " White not Hispanic  0.243902  0.316038  0.346734  0.588496  0.622642  0.262857,\n",
              " '===========================================================================================================',\n",
              " Age Cohort\n",
              " 51+         53521.896226\n",
              " 22 to 50    40209.283186\n",
              " 18 to 21     9888.537688\n",
              " 13 to 17     3922.613208\n",
              " 6 to 12      2226.862857\n",
              " 0 to 5       1415.280488\n",
              " Name: Expenditures, dtype: float64)"
            ]
          },
          "metadata": {},
          "execution_count": 55
        }
      ]
    },
    {
      "cell_type": "code",
      "source": [
        "dds[(dds[\"Ethnicity\"] == \"White not Hispanic\") | (dds[\"Ethnicity\"] == \"Hispanic\")].groupby([\"Ethnicity\", \"Age Cohort\"])[\"Expenditures\"].mean().unstack(1).sort_index().plot.bar()"
      ],
      "metadata": {
        "colab": {
          "base_uri": "https://localhost:8080/",
          "height": 381
        },
        "id": "UjybQOZAmgxB",
        "outputId": "e22dee81-2020-4908-8ffa-879421459a4f"
      },
      "execution_count": 57,
      "outputs": [
        {
          "output_type": "execute_result",
          "data": {
            "text/plain": [
              "<matplotlib.axes._subplots.AxesSubplot at 0x7f658a982d50>"
            ]
          },
          "metadata": {},
          "execution_count": 57
        },
        {
          "output_type": "display_data",
          "data": {
            "image/png": "[encoded data removed]",
            "text/plain": [
              "<Figure size 432x288 with 1 Axes>"
            ]
          },
          "metadata": {
            "needs_background": "light"
          }
        }
      ]
    },
    {
      "cell_type": "markdown",
      "metadata": {
        "id": "dmdJ1RTp7rEq"
      },
      "source": [
        "**YOUR EXPLANATION HERE (although you may want to add more markdown cells)**\n",
        "\n",
        "From the groupby summary object in the first code cell, we can see that the 51+ age cohort had the highest average spending per year. Furthermore, 58% of the 51+ age cohort was white which makes intuitive sense as to why the mean spending for that group was inflated so much.\n",
        "\n",
        "As for the hispanic group, the 0-5 age group comprised the largest proportion of this ethnicity group (53.6%) which negatively impacts their mean annual spending since this age group has the lowest average annual spending.\n",
        "\n",
        "Thus, the barplot may show that the Hispanic and White groups have very similar distributions, but from the conditional distribution table we can see that the drastic difference in proportions of each age group in every ethnicity explains the large gap in average spending for the White and Hispanic ethnicity cohorts."
      ]
    },
    {
      "cell_type": "markdown",
      "metadata": {
        "id": "4JdcqKm57rEr"
      },
      "source": [
        "## Submission Instructions\n",
        "\n",
        "- Copy this notebook to your own Drive, if you have not already.\n",
        "- Restart this notebook and run the cells from beginning to end. \n",
        "  - Go to Runtime > Restart and Run All.\n",
        "- Rename this notebook by clicking on \"DATA 301 Lab 2B - YOUR NAME HERE\" at the very top of this page. Replace \"YOUR NAMES HERE\" with the first and last names of you (and your partners, for Phase 2).\n",
        "- Get the link to your notebook:\n",
        "  - Click on \"Share\" at the top-right. \n",
        "  - Change the settings to \"Anyone with the link can view\". \n",
        "  - Copy the sharing link into Canvas."
      ]
    }
  ]
}